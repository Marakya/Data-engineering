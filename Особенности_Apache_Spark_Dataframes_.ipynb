{
  "nbformat": 4,
  "nbformat_minor": 0,
  "metadata": {
    "colab": {
      "provenance": []
    },
    "kernelspec": {
      "name": "python3",
      "display_name": "Python 3"
    },
    "language_info": {
      "name": "python"
    }
  },
  "cells": [
    {
      "cell_type": "code",
      "execution_count": 1,
      "metadata": {
        "id": "X5eCIfNdcqAQ"
      },
      "outputs": [],
      "source": [
        "# Устанавливаем OpenJDK\n",
        "!apt-get install openjdk-8-jdk-headless -qq > /dev/null\n",
        "# Закачиваем Spark\n",
        "!wget -q http://archive.apache.org/dist/spark/spark-3.2.0/spark-3.2.0-bin-hadoop2.7.tgz -O spark.tgz\n",
        "# Распаковываем архив со Spark\n",
        "!tar xf spark.tgz\n",
        "# Устанавливаем пакет findspark для работы со Spark из Python\n",
        "!pip install -q findspark\n",
        "# Настраиваем переменные окружения для работы с Apache Spark\n",
        "import os\n",
        "os.environ[\"JAVA_HOME\"] = \"/usr/lib/jvm/java-8-openjdk-amd64\"\n",
        "os.environ[\"SPARK_HOME\"] = \"/content/spark-3.2.0-bin-hadoop2.7\"\n",
        "# Находим установку Spark\n",
        "import findspark\n",
        "findspark.init()\n",
        "# Подключаем необходимые модули для работы со Spark из Python\n",
        "from pyspark.sql import SparkSession\n",
        "# Создаем сессию Spark на локальном компьютере\n",
        "spark = SparkSession.builder.master(\"local[*]\").getOrCreate()\n",
        "!wget https://datahub.io/core/population/r/population.json -O population.json -q"
      ]
    },
    {
      "cell_type": "markdown",
      "source": [
        "##Задача 1 Модернизируйте заготовку заменив все участки <put your code here> на ваш код для того, чтобы:\n",
        "\n",
        "вычислить прирост населения в каждой стране от года к году (воспользуйтесь функцией lag или lead)\n",
        "\n",
        "вычислить средний прирост за период с 1990 по 2018 год\n",
        "\n",
        "вычислить и вывести на экран страны с трендом на убыль населения с 1990 по 2018 годы"
      ],
      "metadata": {
        "id": "839RMRWcjjbs"
      }
    },
    {
      "cell_type": "code",
      "source": [
        "from pyspark.sql.functions import lag, col, coalesce, lit, avg"
      ],
      "metadata": {
        "id": "gieYiPRPeOue"
      },
      "execution_count": 2,
      "outputs": []
    },
    {
      "cell_type": "markdown",
      "source": [
        "coalesce - Returns the first column that is not null.\n"
      ],
      "metadata": {
        "id": "cO4Rphi1gc02"
      }
    },
    {
      "cell_type": "markdown",
      "source": [
        "avg - Aggregate function: returns the average of the values in a group."
      ],
      "metadata": {
        "id": "VXO_y2vBhPo9"
      }
    },
    {
      "cell_type": "code",
      "source": [
        "df = spark.read.json(\"/content/population.json\")"
      ],
      "metadata": {
        "id": "cAUKEjxPeOxK"
      },
      "execution_count": 32,
      "outputs": []
    },
    {
      "cell_type": "code",
      "source": [
        "df.printSchema()"
      ],
      "metadata": {
        "colab": {
          "base_uri": "https://localhost:8080/"
        },
        "id": "C0DN7_F1jUZK",
        "outputId": "30bf61ed-df35-4982-948e-f80a119ef457"
      },
      "execution_count": 33,
      "outputs": [
        {
          "output_type": "stream",
          "name": "stdout",
          "text": [
            "root\n",
            " |-- Country Code: string (nullable = true)\n",
            " |-- Country Name: string (nullable = true)\n",
            " |-- Value: double (nullable = true)\n",
            " |-- Year: long (nullable = true)\n",
            "\n"
          ]
        }
      ]
    },
    {
      "cell_type": "markdown",
      "source": [
        "2018 год последний в этих данных"
      ],
      "metadata": {
        "id": "h0Xs-ruYmZQs"
      }
    },
    {
      "cell_type": "code",
      "source": [
        "df1 = df.where('year > 2018')\n",
        "df1.show()"
      ],
      "metadata": {
        "colab": {
          "base_uri": "https://localhost:8080/"
        },
        "id": "NNxUXROwoLgY",
        "outputId": "b5ee2bbb-d9a9-4f77-c440-daf119594861"
      },
      "execution_count": 34,
      "outputs": [
        {
          "output_type": "stream",
          "name": "stdout",
          "text": [
            "+------------+------------+-----+----+\n",
            "|Country Code|Country Name|Value|Year|\n",
            "+------------+------------+-----+----+\n",
            "+------------+------------+-----+----+\n",
            "\n"
          ]
        }
      ]
    },
    {
      "cell_type": "code",
      "source": [
        "from pyspark.sql import Window"
      ],
      "metadata": {
        "id": "wuKvstljeOzp"
      },
      "execution_count": 35,
      "outputs": []
    },
    {
      "cell_type": "code",
      "source": [
        "windowCountry = Window.partitionBy(\"Country Name\").orderBy(\"Year\")"
      ],
      "metadata": {
        "id": "1sdfmFUQf8yn"
      },
      "execution_count": 36,
      "outputs": []
    },
    {
      "cell_type": "markdown",
      "source": [
        "Берем значения за период времени от 1990 года"
      ],
      "metadata": {
        "id": "Twv26mMJmo1-"
      }
    },
    {
      "cell_type": "code",
      "source": [
        "df = df.where('year > 1990')"
      ],
      "metadata": {
        "id": "TuBaYL75f807"
      },
      "execution_count": 37,
      "outputs": []
    },
    {
      "cell_type": "code",
      "source": [
        "df = df.withColumn(\"cnt_country\", coalesce(col('Value') - lag(\"Value\").over(windowCountry), lit(0)))"
      ],
      "metadata": {
        "id": "ZdJVWgfVf83c"
      },
      "execution_count": 38,
      "outputs": []
    },
    {
      "cell_type": "code",
      "source": [
        "df.show()"
      ],
      "metadata": {
        "colab": {
          "base_uri": "https://localhost:8080/"
        },
        "id": "2xen5hXeLtOd",
        "outputId": "65cd519d-5307-451c-b143-8f569aca3826"
      },
      "execution_count": 39,
      "outputs": [
        {
          "output_type": "stream",
          "name": "stdout",
          "text": [
            "+------------+------------+-----------+----+-----------+\n",
            "|Country Code|Country Name|      Value|Year|cnt_country|\n",
            "+------------+------------+-----------+----+-----------+\n",
            "|         AFG| Afghanistan|1.3299017E7|1991|        0.0|\n",
            "|         AFG| Afghanistan|1.4485546E7|1992|  1186529.0|\n",
            "|         AFG| Afghanistan|1.5816603E7|1993|  1331057.0|\n",
            "|         AFG| Afghanistan|1.7075727E7|1994|  1259124.0|\n",
            "|         AFG| Afghanistan|1.8110657E7|1995|  1034930.0|\n",
            "|         AFG| Afghanistan|1.8853437E7|1996|   742780.0|\n",
            "|         AFG| Afghanistan|1.9357126E7|1997|   503689.0|\n",
            "|         AFG| Afghanistan|1.9737765E7|1998|   380639.0|\n",
            "|         AFG| Afghanistan|2.0170844E7|1999|   433079.0|\n",
            "|         AFG| Afghanistan|2.0779953E7|2000|   609109.0|\n",
            "|         AFG| Afghanistan|2.1606988E7|2001|   827035.0|\n",
            "|         AFG| Afghanistan| 2.260077E7|2002|   993782.0|\n",
            "|         AFG| Afghanistan|2.3680871E7|2003|  1080101.0|\n",
            "|         AFG| Afghanistan|2.4726684E7|2004|  1045813.0|\n",
            "|         AFG| Afghanistan|2.5654277E7|2005|   927593.0|\n",
            "|         AFG| Afghanistan|2.6433049E7|2006|   778772.0|\n",
            "|         AFG| Afghanistan|2.7100536E7|2007|   667487.0|\n",
            "|         AFG| Afghanistan|2.7722276E7|2008|   621740.0|\n",
            "|         AFG| Afghanistan|2.8394813E7|2009|   672537.0|\n",
            "|         AFG| Afghanistan|2.9185507E7|2010|   790694.0|\n",
            "+------------+------------+-----------+----+-----------+\n",
            "only showing top 20 rows\n",
            "\n"
          ]
        }
      ]
    },
    {
      "cell_type": "markdown",
      "source": [
        "Средний прирост по каждой стране"
      ],
      "metadata": {
        "id": "R8Lx5jTOku11"
      }
    },
    {
      "cell_type": "code",
      "source": [
        "df = df.groupBy(\"Country Name\").agg(avg(\"cnt_country\").name(\"trend\"))"
      ],
      "metadata": {
        "id": "fl9z7asHm-bC"
      },
      "execution_count": 40,
      "outputs": []
    },
    {
      "cell_type": "code",
      "source": [
        "df.show()"
      ],
      "metadata": {
        "colab": {
          "base_uri": "https://localhost:8080/"
        },
        "id": "Rcj6cSifNPJf",
        "outputId": "d995fe5b-8c96-4614-fb02-dd10a8c9769e"
      },
      "execution_count": 41,
      "outputs": [
        {
          "output_type": "stream",
          "name": "stdout",
          "text": [
            "+-------------------+-------------------+\n",
            "|       Country Name|              trend|\n",
            "+-------------------+-------------------+\n",
            "|        Afghanistan|  852620.3214285715|\n",
            "|            Albania|           -14300.5|\n",
            "|            Algeria|  565283.9285714285|\n",
            "|     American Samoa| 242.14285714285714|\n",
            "|            Andorra|             726.25|\n",
            "|             Angola|  662887.8928571428|\n",
            "|Antigua and Barbuda| 1175.6785714285713|\n",
            "|         Arab World|         6823532.25|\n",
            "|          Argentina|           407696.5|\n",
            "|            Armenia|-19767.214285714286|\n",
            "|              Aruba|            1472.25|\n",
            "|          Australia| 274953.14285714284|\n",
            "|            Austria|            38772.5|\n",
            "|         Azerbaijan|  95314.28571428571|\n",
            "|       Bahamas, The|  4451.142857142857|\n",
            "|            Bahrain|  37845.67857142857|\n",
            "|         Bangladesh| 1991318.2857142857|\n",
            "|           Barbados|  883.4285714285714|\n",
            "|            Belarus|-25375.035714285714|\n",
            "|            Belgium|            51027.5|\n",
            "+-------------------+-------------------+\n",
            "only showing top 20 rows\n",
            "\n"
          ]
        }
      ]
    },
    {
      "cell_type": "markdown",
      "source": [
        "Выведим страны с отрицательным трендом"
      ],
      "metadata": {
        "id": "jO15FceQoqA0"
      }
    },
    {
      "cell_type": "code",
      "source": [
        "df.where(\"trend < 0\").show(20)"
      ],
      "metadata": {
        "colab": {
          "base_uri": "https://localhost:8080/"
        },
        "id": "YW-rKPI5hTeh",
        "outputId": "374fd456-5e1c-43b5-f5a0-416934373756"
      },
      "execution_count": 42,
      "outputs": [
        {
          "output_type": "stream",
          "name": "stdout",
          "text": [
            "+--------------------+-------------------+\n",
            "|        Country Name|              trend|\n",
            "+--------------------+-------------------+\n",
            "|             Albania|           -14300.5|\n",
            "|             Armenia|-19767.214285714286|\n",
            "|             Belarus|-25375.035714285714|\n",
            "|Bosnia and Herzeg...|-37335.357142857145|\n",
            "|            Bulgaria|-57404.642857142855|\n",
            "|Central Europe an...|-284198.03571428574|\n",
            "|             Croatia|-21470.678571428572|\n",
            "|             Estonia|           -8547.75|\n",
            "|             Georgia| -39619.67857142857|\n",
            "|             Hungary|-21351.285714285714|\n",
            "|              Kosovo| -1882.142857142857|\n",
            "|              Latvia|-25835.964285714286|\n",
            "|           Lithuania| -32235.39285714286|\n",
            "|             Moldova|  -9624.07142857143|\n",
            "|              Poland| -9694.392857142857|\n",
            "|         Puerto Rico|-13105.607142857143|\n",
            "|             Romania|-126250.35714285714|\n",
            "|  Russian Federation|-148069.64285714287|\n",
            "|              Serbia|           -21894.0|\n",
            "|             Ukraine|-263498.35714285716|\n",
            "+--------------------+-------------------+\n",
            "\n"
          ]
        }
      ]
    }
  ]
}