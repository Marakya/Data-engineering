{
  "nbformat": 4,
  "nbformat_minor": 0,
  "metadata": {
    "colab": {
      "provenance": []
    },
    "kernelspec": {
      "name": "python3",
      "display_name": "Python 3"
    },
    "language_info": {
      "name": "python"
    }
  },
  "cells": [
    {
      "cell_type": "code",
      "execution_count": 1,
      "metadata": {
        "id": "UhWFC_y2X5Wq"
      },
      "outputs": [],
      "source": [
        "# Устанавливаем OpenJDK\n",
        "!apt-get install openjdk-8-jdk-headless -qq > /dev/null\n",
        "# Закачиваем Spark\n",
        "!wget -q http://archive.apache.org/dist/spark/spark-3.2.0/spark-3.2.0-bin-hadoop2.7.tgz -O spark.tgz\n",
        "# Распаковываем архив со Spark\n",
        "!tar xf spark.tgz\n",
        "# Устанавливаем пакет findspark для работы со Spark из Python\n",
        "!pip install -q findspark\n",
        "# Настраиваем переменные окружения для работы с Apache Spark\n",
        "import os\n",
        "os.environ[\"JAVA_HOME\"] = \"/usr/lib/jvm/java-8-openjdk-amd64\"\n",
        "os.environ[\"SPARK_HOME\"] = \"/content/spark-3.2.0-bin-hadoop2.7\"\n",
        "# Находим установку Spark\n",
        "import findspark\n",
        "findspark.init()\n",
        "# Подключаем необходимые модули для работы со Spark из Python\n",
        "from pyspark.sql import SparkSession\n",
        "# Создаем сессию Spark на локальном компьютере\n",
        "spark = SparkSession.builder.master(\"local[*]\").getOrCreate()\n",
        "!wget https://datahub.io/core/world-cities/r/world-cities.json -O /content/world-cities.json -q"
      ]
    },
    {
      "cell_type": "markdown",
      "source": [
        "##Задача 1 Модернизируйте заготовку заменив все участки <put your code here> на ваш код для того, чтобы:\n",
        "\n",
        "выводить на экран схему кадра данных\n",
        "\n",
        "вычислять и выводить на экран в порядке убывания количества городов страны сгруппированные по стране и региону"
      ],
      "metadata": {
        "id": "Sm9-h2mpZZRp"
      }
    },
    {
      "cell_type": "code",
      "source": [
        "from pyspark.sql.functions import col, count, count_distinct, desc"
      ],
      "metadata": {
        "id": "460I5ml4X-Jn"
      },
      "execution_count": 2,
      "outputs": []
    },
    {
      "cell_type": "markdown",
      "source": [
        "count_distinct - Returns a new Column for distinct count of col or cols."
      ],
      "metadata": {
        "id": "iPo6WCHnbz9L"
      }
    },
    {
      "cell_type": "code",
      "source": [
        "df = spark.read.json(\"/content/world-cities.json\")\n",
        "df.printSchema()"
      ],
      "metadata": {
        "colab": {
          "base_uri": "https://localhost:8080/"
        },
        "id": "gQA7D_V4X-MB",
        "outputId": "405c26f9-2b8e-4aac-c763-266de4842ec4"
      },
      "execution_count": 3,
      "outputs": [
        {
          "output_type": "stream",
          "name": "stdout",
          "text": [
            "root\n",
            " |-- country: string (nullable = true)\n",
            " |-- geonameid: long (nullable = true)\n",
            " |-- name: string (nullable = true)\n",
            " |-- subcountry: string (nullable = true)\n",
            "\n"
          ]
        }
      ]
    },
    {
      "cell_type": "code",
      "source": [
        "df.groupBy(\"country\").agg(count_distinct(col('subcountry')).name('subcountry'),count(col(\"*\")).name('cnt')).orderBy(desc('cnt')).show()"
      ],
      "metadata": {
        "colab": {
          "base_uri": "https://localhost:8080/"
        },
        "id": "uJwWXir2X-OL",
        "outputId": "087f069f-3951-4151-cedb-a186ceba347f"
      },
      "execution_count": 5,
      "outputs": [
        {
          "output_type": "stream",
          "name": "stdout",
          "text": [
            "+--------------+----------+----+\n",
            "|       country|subcountry| cnt|\n",
            "+--------------+----------+----+\n",
            "| United States|        51|2699|\n",
            "|         India|        35|2443|\n",
            "|        Brazil|        27|1200|\n",
            "|        Russia|        82|1093|\n",
            "|       Germany|        16|1055|\n",
            "|         China|        31| 799|\n",
            "|         Japan|        47| 736|\n",
            "|        France|        13| 633|\n",
            "|         Italy|        20| 571|\n",
            "|         Spain|        19| 569|\n",
            "|        Mexico|        32| 561|\n",
            "|United Kingdom|         4| 513|\n",
            "|   Philippines|        17| 439|\n",
            "|        Turkey|        81| 383|\n",
            "|     Indonesia|        35| 372|\n",
            "|        Poland|        16| 327|\n",
            "|      Pakistan|         6| 312|\n",
            "|   Netherlands|        12| 258|\n",
            "|       Ukraine|        27| 257|\n",
            "|       Algeria|        47| 247|\n",
            "+--------------+----------+----+\n",
            "only showing top 20 rows\n",
            "\n"
          ]
        }
      ]
    },
    {
      "cell_type": "code",
      "source": [],
      "metadata": {
        "id": "pts6Xl3mX-QE"
      },
      "execution_count": null,
      "outputs": []
    }
  ]
}