{
  "nbformat": 4,
  "nbformat_minor": 0,
  "metadata": {
    "colab": {
      "provenance": []
    },
    "kernelspec": {
      "name": "python3",
      "display_name": "Python 3"
    },
    "language_info": {
      "name": "python"
    }
  },
  "cells": [
    {
      "cell_type": "code",
      "execution_count": null,
      "metadata": {
        "id": "0XJvp7NKE5K3"
      },
      "outputs": [],
      "source": [
        "# Устанавливаем OpenJDK\n",
        "!apt-get install openjdk-8-jdk-headless -qq > /dev/null\n",
        "# Закачиваем Spark\n",
        "!wget -q http://archive.apache.org/dist/spark/spark-3.2.0/spark-3.2.0-bin-hadoop2.7.tgz -O spark.tgz\n",
        "# Распаковываем архив со Spark\n",
        "!tar xf spark.tgz\n",
        "# Устанавливаем пакет findspark для работы со Spark из Python\n",
        "!pip install -q findspark\n",
        "# Настраиваем переменные окружения для работы с Apache Spark\n",
        "import os\n",
        "os.environ[\"JAVA_HOME\"] = \"/usr/lib/jvm/java-8-openjdk-amd64\"\n",
        "os.environ[\"SPARK_HOME\"] = \"/content/spark-3.2.0-bin-hadoop2.7\"\n",
        "# Находим установку Spark\n",
        "import findspark\n",
        "findspark.init()\n",
        "# Подключаем необходимые модули для работы со Spark из Python\n",
        "from pyspark.sql import SparkSession\n",
        "# Создаем сессию Spark на локальном компьютере\n",
        "spark = SparkSession.builder.master(\"local[*]\").getOrCreate()\n",
        "!mkdir sample_data/accounts"
      ]
    },
    {
      "cell_type": "code",
      "source": [
        "!echo '{  \"id\": \"a1globalid\",  \"op\": \"c\",  \"ts\": 1577863800000,  \"data\": {    \"account_id\": \"a1\",    \"name\": \"Anton\",    \"address\": \"Moscow\",    \"phone_number\": \"12345678\",    \"email\": \"anthony@somebank.com\"  }}' > /content/sample_data/accounts/1577863800000.json\n",
        "!echo '{  \"id\": \"a2globalid\",  \"op\": \"c\",  \"ts\": 1577873800000,  \"data\": {    \"account_id\": \"a2\",    \"name\": \"Alex\",    \"address\": \"Atlanta\",    \"phone_number\": \"98765432\",    \"email\": \"Alex@somebank.com\"  }}' > /content/sample_data/accounts/1577873800000.json\n",
        "!echo '{  \"id\": \"a1globalid\",  \"op\": \"u\",  \"ts\": 1577865600000,  \"set\": {    \"phone_number\": \"87654321\"  }}' > /content/sample_data/accounts/1577865600000.json\n",
        "!echo '{  \"id\": \"a1globalid\",  \"op\": \"u\",  \"ts\": 1577890800000,  \"set\": {    \"savings_account_id\": \"sa1\"  }}' > /content/sample_data/accounts/1577890800000.json\n",
        "!echo '{  \"id\": \"a2globalid\",  \"op\": \"u\",  \"ts\": 1577890900000,  \"set\": {    \"savings_account_id\": \"sa2\"  }}' > /content/sample_data/accounts/1577890900000.json\n",
        "!echo '{  \"id\": \"a1globalid\",  \"op\": \"u\",  \"ts\": 1577894400000,  \"set\": {    \"address\": \"Yekaterinburg\",    \"email\": \"anthony@anotherbank.com\"  }}' > /content/sample_data/accounts/1577894400000.json\n",
        "!echo '{  \"id\": \"a1globalid\",  \"op\": \"u\",  \"ts\": 1577926800000,  \"set\": {    \"card_id\": \"c1\"  }}' > /content/sample_data/accounts/1577926800000.json\n",
        "!echo '{  \"id\": \"a1globalid\",  \"op\": \"u\",  \"ts\": 1579078860000,  \"set\": {    \"card_id\": \"\"  }}' > /content/sample_data/accounts/1579078860000.json\n",
        "!echo '{  \"id\": \"a1globalid\",  \"op\": \"u\",  \"ts\": 1579163400000,  \"set\": {    \"card_id\": \"c2\"  }}' > /content/sample_data/accounts/1579163400000.json"
      ],
      "metadata": {
        "id": "HCW5Whs5FPGY"
      },
      "execution_count": null,
      "outputs": []
    },
    {
      "cell_type": "markdown",
      "source": [
        "Задача: Визуализируйте полное историческое табличное представление в табличном формате в стандартном выводе"
      ],
      "metadata": {
        "id": "ewA-qr7ZLumr"
      }
    },
    {
      "cell_type": "code",
      "source": [
        "from pyspark.sql.functions import last, coalesce\n",
        "from pyspark.sql import Window\n",
        "df = spark.read.json(\"/content/sample_data/accounts/\")"
      ],
      "metadata": {
        "id": "1Pxl44nBFPII"
      },
      "execution_count": null,
      "outputs": []
    },
    {
      "cell_type": "code",
      "source": [
        "df.printSchema()"
      ],
      "metadata": {
        "id": "TQUL7F85GDl-",
        "colab": {
          "base_uri": "https://localhost:8080/"
        },
        "outputId": "dda20264-001d-456d-a177-30012b1b68ea"
      },
      "execution_count": null,
      "outputs": [
        {
          "output_type": "stream",
          "name": "stdout",
          "text": [
            "root\n",
            " |-- data: struct (nullable = true)\n",
            " |    |-- account_id: string (nullable = true)\n",
            " |    |-- address: string (nullable = true)\n",
            " |    |-- email: string (nullable = true)\n",
            " |    |-- name: string (nullable = true)\n",
            " |    |-- phone_number: string (nullable = true)\n",
            " |-- id: string (nullable = true)\n",
            " |-- op: string (nullable = true)\n",
            " |-- set: struct (nullable = true)\n",
            " |    |-- address: string (nullable = true)\n",
            " |    |-- card_id: string (nullable = true)\n",
            " |    |-- email: string (nullable = true)\n",
            " |    |-- phone_number: string (nullable = true)\n",
            " |    |-- savings_account_id: string (nullable = true)\n",
            " |-- ts: long (nullable = true)\n",
            "\n"
          ]
        }
      ]
    },
    {
      "cell_type": "code",
      "source": [
        "window = Window.partitionBy(\"id\").orderBy(\"ts\")"
      ],
      "metadata": {
        "id": "zIJg__btGDoT"
      },
      "execution_count": null,
      "outputs": []
    },
    {
      "cell_type": "code",
      "source": [
        "df = df.select(\"id\", \"op\", \"ts\",\"data.account_id\"\n",
        ",coalesce(\"data.address\",\"set.address\").name(\"address\") \n",
        ",coalesce(\"data.email\",\"set.email\").name(\"email\") \n",
        ",\"data.name\"\n",
        ",coalesce(\"data.phone_number\",\"set.phone_number\").name(\"phone_number\")\n",
        ",\"set.card_id\"\n",
        ",\"set.savings_account_id\")"
      ],
      "metadata": {
        "id": "ElFwqYjRL2qI"
      },
      "execution_count": null,
      "outputs": []
    },
    {
      "cell_type": "code",
      "source": [
        "df = df.select(\"ts\", last(\"account_id\", True).over(window).name(\"account_id\")\n",
        ",last(\"address\", True).over(window).name(\"address\")\n",
        ",last(\"email\", True).over(window).name(\"email\")\n",
        ",last(\"name\", True).over(window).name(\"name\")\n",
        ",last(\"phone_number\", True).over(window).name(\"phone_number\")\n",
        ",last(\"card_id\", True).over(window).name(\"card_id\")\n",
        ",last(\"savings_account_id\", True).over(window).name(\"savings_account_id\"))"
      ],
      "metadata": {
        "id": "2PpWYadGJyn-"
      },
      "execution_count": null,
      "outputs": []
    },
    {
      "cell_type": "code",
      "source": [
        "df.show()"
      ],
      "metadata": {
        "colab": {
          "base_uri": "https://localhost:8080/"
        },
        "id": "3G_KUx6PKcmc",
        "outputId": "6373ff99-2ad1-4507-e21e-a0dfe39b6edc"
      },
      "execution_count": null,
      "outputs": [
        {
          "output_type": "stream",
          "name": "stdout",
          "text": [
            "+-------------+----------+-------------+--------------------+-----+------------+-------+------------------+\n",
            "|           ts|account_id|      address|               email| name|phone_number|card_id|savings_account_id|\n",
            "+-------------+----------+-------------+--------------------+-----+------------+-------+------------------+\n",
            "|1577863800000|        a1|       Moscow|anthony@somebank.com|Anton|    12345678|   null|              null|\n",
            "|1577865600000|        a1|       Moscow|anthony@somebank.com|Anton|    87654321|   null|              null|\n",
            "|1577890800000|        a1|       Moscow|anthony@somebank.com|Anton|    87654321|   null|               sa1|\n",
            "|1577894400000|        a1|Yekaterinburg|anthony@anotherba...|Anton|    87654321|   null|               sa1|\n",
            "|1577926800000|        a1|Yekaterinburg|anthony@anotherba...|Anton|    87654321|     c1|               sa1|\n",
            "|1579078860000|        a1|Yekaterinburg|anthony@anotherba...|Anton|    87654321|       |               sa1|\n",
            "|1579163400000|        a1|Yekaterinburg|anthony@anotherba...|Anton|    87654321|     c2|               sa1|\n",
            "|1577873800000|        a2|      Atlanta|   Alex@somebank.com| Alex|    98765432|   null|              null|\n",
            "|1577890900000|        a2|      Atlanta|   Alex@somebank.com| Alex|    98765432|   null|               sa2|\n",
            "+-------------+----------+-------------+--------------------+-----+------------+-------+------------------+\n",
            "\n"
          ]
        }
      ]
    }
  ]
}